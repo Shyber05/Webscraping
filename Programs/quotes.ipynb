{
 "nbformat": 4,
 "nbformat_minor": 2,
 "metadata": {
  "language_info": {
   "name": "python",
   "codemirror_mode": {
    "name": "ipython",
    "version": 3
   },
   "version": "3.7.3-final"
  },
  "orig_nbformat": 2,
  "file_extension": ".py",
  "mimetype": "text/x-python",
  "name": "python",
  "npconvert_exporter": "python",
  "pygments_lexer": "ipython3",
  "version": 3,
  "kernelspec": {
   "name": "python37364bitanaconda3condab801cdb560ae4e5299ccbfd790aaed0d",
   "display_name": "Python 3.7.3 64-bit ('anaconda3': conda)"
  }
 },
 "cells": [
  {
   "cell_type": "markdown",
   "execution_count": null,
   "metadata": {},
   "outputs": [],
   "source": [
    "# Quote scraper\n",
    "scraps the data requested of the website _quotes.toscrape.com_"
   ]
  },
  {
   "cell_type": "code",
   "execution_count": 60,
   "metadata": {},
   "outputs": [],
   "source": [
    "from bs4 import BeautifulSoup\n",
    "import requests\n",
    "import pandas as pd\n",
    "\n",
    "authors = []\n",
    "quotes = []\n",
    "pages = []\n",
    "keywords = []\n",
    "\n",
    "\n",
    "\n",
    "\n",
    "# Determine how many pages to scrap\n",
    "\n",
    "num_of_pages = 1\n",
    "\n",
    "for i in range(1, num_of_pages + 1):\n",
    "    url = ('http://quotes.toscrape.com/page/{}/').format(i)\n",
    "    pages.append(url)\n",
    "\n",
    "\n",
    "\n",
    "for item in pages:\n",
    "    page = requests.get(item)\n",
    "    soup = BeautifulSoup(page.text, 'html.parser')\n",
    "    # print(soup.prettify())\n",
    "\n",
    "    #Grabs the text from the quote\n",
    "    for i in soup.find_all('span', class_='text'):\n",
    "        quotes.append(i.get_text())\n",
    "\n",
    "\n",
    "    #Find the author\n",
    "    for j in soup.find_all('small'):\n",
    "        authors.append(j.get_text())\n",
    "\n",
    "    #Finding the keywords\n",
    "    for s in soup.find_all('meta', class_='keywords'):\n",
    "        keywords.append((s.attrs['content']))"
   ]
  },
  {
   "cell_type": "code",
   "execution_count": 61,
   "metadata": {},
   "outputs": [],
   "source": [
    "data = {'Author':authors, 'Quotes':quotes, 'Keywords': keywords}"
   ]
  },
  {
   "cell_type": "markdown",
   "metadata": {},
   "source": [
    "# Pandas Dataframe\n",
    "This will allow us to export the data into an excel file, csv file, ect."
   ]
  },
  {
   "cell_type": "code",
   "execution_count": 62,
   "metadata": {},
   "outputs": [],
   "source": [
    "df = pd.DataFrame(data=data)\n",
    "df.index += 1"
   ]
  },
  {
   "cell_type": "code",
   "execution_count": 65,
   "metadata": {},
   "outputs": [],
   "source": [
    "# df.to_excel('/home/bscheibs/scraping_practice/quotes.xlsx')\n",
    "# df.to_csv('/home/bscheibs/scraping_practice/quotes.csv')"
   ]
  },
  {
   "cell_type": "code",
   "execution_count": null,
   "metadata": {},
   "outputs": [],
   "source": []
  }
 ]
}